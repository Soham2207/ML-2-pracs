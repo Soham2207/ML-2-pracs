{
 "cells": [
  {
   "cell_type": "code",
   "execution_count": 2,
   "id": "3581f449",
   "metadata": {},
   "outputs": [],
   "source": [
    "import numpy as np"
   ]
  },
  {
   "cell_type": "code",
   "execution_count": 11,
   "id": "72b48837",
   "metadata": {},
   "outputs": [],
   "source": [
    "def perceptron(x,w,b):\n",
    "    yin = (np.dot(x,w))+b\n",
    "    if yin>=0:\n",
    "        return 1\n",
    "    else:\n",
    "        return 0\n"
   ]
  },
  {
   "cell_type": "code",
   "execution_count": 7,
   "id": "3426ddff",
   "metadata": {},
   "outputs": [],
   "source": [
    "def AND(x,w,b):\n",
    "    #w = [1,1],b = -2\n",
    "    print(\"-------AND fuction----\")\n",
    "    y =  perceptron(x,w,b)\n",
    "    if y == 1:\n",
    "        print(\"----Target Achieved----\")\n",
    "        print(\"Weights: \",w)\n",
    "        print(\"Bias: \",b)\n",
    "    else:\n",
    "        print(\"----Target not Achieved----\")\n",
    "        print(\"Weights: \",w)\n",
    "        print(\"Bias: \",b)"
   ]
  },
  {
   "cell_type": "code",
   "execution_count": 16,
   "id": "c6654f5c",
   "metadata": {},
   "outputs": [],
   "source": [
    "def OR(x,w,b):\n",
    "    #w = [1,1],b = -1\n",
    "    print(\"----OR Fuction----\")\n",
    "    y = perceptron(x,w,b)\n",
    "    if y == 1:\n",
    "        print(\"----Target Achieved----\")\n",
    "        print(\"Weights: \",w)\n",
    "        print(\"Bias: \",b)\n",
    "    else:\n",
    "        print(\"----Target not Achieved----\")\n",
    "        print(\"Weights: \",w)\n",
    "        print(\"Bias: \",b)\n",
    "        "
   ]
  },
  {
   "cell_type": "code",
   "execution_count": 18,
   "id": "29ac2dc9",
   "metadata": {},
   "outputs": [],
   "source": [
    "def NOT(x,w,b):\n",
    "    #w=[-1],b = 0\n",
    "    print(\"----NOT Fuction----\")\n",
    "    y = perceptron(x,w,b)\n",
    "    if y == 1:\n",
    "        print(\"----Target Achieved----\")\n",
    "        print(\"Weights: \",w)\n",
    "        print(\"Bias: \",b)\n",
    "    else:\n",
    "        print(\"----Target not Achieved----\")\n",
    "        print(\"Weights: \",w)\n",
    "        print(\"Bias: \",b)"
   ]
  },
  {
   "cell_type": "code",
   "execution_count": 23,
   "id": "b226a421",
   "metadata": {},
   "outputs": [],
   "source": [
    "def NAND(x,w,b):\n",
    "    #w=[1,1],b=-2\n",
    "    print(\"----NAND Fuction----\")\n",
    "    y1 = perceptron(x,w,b)\n",
    "    y = perceptron(y1,-1,0)\n",
    "    if y == 1:\n",
    "        print(\"----Target Achieved----\")\n",
    "        print(\"Weights: \",w)\n",
    "        print(\"Bias: \",b)\n",
    "    else:\n",
    "        print(\"----Target not Achieved----\")\n",
    "        print(\"Weights: \",w)\n",
    "        print(\"Bias: \",b)"
   ]
  },
  {
   "cell_type": "code",
   "execution_count": 27,
   "id": "729b275d",
   "metadata": {},
   "outputs": [],
   "source": [
    "def NOR(x,w,b):\n",
    "    #w=[1,1],b=-1\n",
    "    print(\"----NOR Fuction----\")\n",
    "    y1 = perceptron(x,w,b)\n",
    "    y = perceptron(y1,-1,0)\n",
    "    if y == 1:\n",
    "        print(\"----Target Achieved----\")\n",
    "        print(\"Weights: \",w)\n",
    "        print(\"Bias: \",b)\n",
    "    else:\n",
    "        print(\"----Target not Achieved----\")\n",
    "        print(\"Weights: \",w)\n",
    "        print(\"Bias: \",b)"
   ]
  },
  {
   "cell_type": "code",
   "execution_count": 33,
   "id": "c1225eac",
   "metadata": {},
   "outputs": [],
   "source": [
    "def XOR():\n",
    "    print(\"XOR FUNCTION\")\n",
    "    x = []\n",
    "    for i in range(0, 2):\n",
    "        ele = int(input(\"Enter x: \"))\n",
    "        x.append(ele)\n",
    "    w_and = [1,1]\n",
    "    b_and = -2\n",
    "    y1 = perceptron(x,w_and,b_and)\n",
    "    w_or = [1,1]\n",
    "    b_or = -1\n",
    "    y2 = perceptron(x,w_or,b_or)\n",
    "    y3 = perceptron(y1,-1,0)\n",
    "    final_x = np.array([y2,y3])\n",
    "    y = perceptron(final_x,w_and,b_and)\n",
    "    if (y == 1):\n",
    "        print(\"Target Achieved\")\n",
    "    else:\n",
    "        print(\"Target Not Achieved\") \n"
   ]
  },
  {
   "cell_type": "code",
   "execution_count": 28,
   "id": "149b24f0",
   "metadata": {},
   "outputs": [
    {
     "name": "stdout",
     "output_type": "stream",
     "text": [
      "Enter x: 1\n",
      "Enter x: 1\n",
      "Enter weights: 1\n",
      "Enter weights: 1\n",
      "Enter the bias: -1\n",
      "----NOR Fuction----\n",
      "----Target not Achieved----\n",
      "Weights:  [1, 1]\n",
      "Bias:  -1\n"
     ]
    }
   ],
   "source": [
    "x = []\n",
    "for i in range(0, 2):\n",
    "    ele = int(input(\"Enter x: \"))\n",
    "    x.append(ele)\n",
    "w = []\n",
    "for i in range(0, 2):\n",
    "    ele = int(input(\"Enter weights: \"))\n",
    "    w.append(ele)\n",
    "b = int(input(\"Enter the bias: \"))\n",
    "NOR(x,w,b)"
   ]
  },
  {
   "cell_type": "code",
   "execution_count": 35,
   "id": "7f7c3406",
   "metadata": {
    "scrolled": true
   },
   "outputs": [
    {
     "name": "stdout",
     "output_type": "stream",
     "text": [
      "XOR FUNCTION\n",
      "Enter x: 1\n",
      "Enter x: 0\n",
      "Target Achieved\n"
     ]
    }
   ],
   "source": [
    "XOR()"
   ]
  }
 ],
 "metadata": {
  "kernelspec": {
   "display_name": "Python 3 (ipykernel)",
   "language": "python",
   "name": "python3"
  },
  "language_info": {
   "codemirror_mode": {
    "name": "ipython",
    "version": 3
   },
   "file_extension": ".py",
   "mimetype": "text/x-python",
   "name": "python",
   "nbconvert_exporter": "python",
   "pygments_lexer": "ipython3",
   "version": "3.10.0"
  }
 },
 "nbformat": 4,
 "nbformat_minor": 5
}
